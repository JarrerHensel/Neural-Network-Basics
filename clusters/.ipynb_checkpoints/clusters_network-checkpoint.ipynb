{
 "cells": [
  {
   "cell_type": "code",
   "execution_count": 1,
   "metadata": {},
   "outputs": [],
   "source": [
    "import tensorflow as tf\n",
    "from tensorflow import keras\n",
    "import pandas as pd\n",
    "import numpy as np"
   ]
  },
  {
   "cell_type": "code",
   "execution_count": 2,
   "metadata": {},
   "outputs": [
    {
     "data": {
      "text/html": [
       "<div>\n",
       "<style scoped>\n",
       "    .dataframe tbody tr th:only-of-type {\n",
       "        vertical-align: middle;\n",
       "    }\n",
       "\n",
       "    .dataframe tbody tr th {\n",
       "        vertical-align: top;\n",
       "    }\n",
       "\n",
       "    .dataframe thead th {\n",
       "        text-align: right;\n",
       "    }\n",
       "</style>\n",
       "<table border=\"1\" class=\"dataframe\">\n",
       "  <thead>\n",
       "    <tr style=\"text-align: right;\">\n",
       "      <th></th>\n",
       "      <th>x</th>\n",
       "      <th>y</th>\n",
       "      <th>color</th>\n",
       "    </tr>\n",
       "  </thead>\n",
       "  <tbody>\n",
       "    <tr>\n",
       "      <td>0</td>\n",
       "      <td>0.129270</td>\n",
       "      <td>1.979720</td>\n",
       "      <td>red</td>\n",
       "    </tr>\n",
       "    <tr>\n",
       "      <td>1</td>\n",
       "      <td>-0.380831</td>\n",
       "      <td>1.693519</td>\n",
       "      <td>red</td>\n",
       "    </tr>\n",
       "    <tr>\n",
       "      <td>2</td>\n",
       "      <td>0.718693</td>\n",
       "      <td>1.791793</td>\n",
       "      <td>red</td>\n",
       "    </tr>\n",
       "    <tr>\n",
       "      <td>3</td>\n",
       "      <td>0.722922</td>\n",
       "      <td>0.620655</td>\n",
       "      <td>red</td>\n",
       "    </tr>\n",
       "    <tr>\n",
       "      <td>4</td>\n",
       "      <td>-0.432689</td>\n",
       "      <td>0.541550</td>\n",
       "      <td>red</td>\n",
       "    </tr>\n",
       "  </tbody>\n",
       "</table>\n",
       "</div>"
      ],
      "text/plain": [
       "          x         y color\n",
       "0  0.129270  1.979720   red\n",
       "1 -0.380831  1.693519   red\n",
       "2  0.718693  1.791793   red\n",
       "3  0.722922  0.620655   red\n",
       "4 -0.432689  0.541550   red"
      ]
     },
     "execution_count": 2,
     "metadata": {},
     "output_type": "execute_result"
    }
   ],
   "source": [
    "train_df = pd.read_csv('./data/train.csv')\n",
    "train_df.head()"
   ]
  },
  {
   "cell_type": "code",
   "execution_count": 3,
   "metadata": {},
   "outputs": [
    {
     "name": "stdout",
     "output_type": "stream",
     "text": [
      "['red' 'blue' 'green' 'teal' 'orange' 'purple']\n"
     ]
    }
   ],
   "source": [
    "# check the different color options\n",
    "color_list = train_df.color.unique()\n",
    "print(train_df.color.unique())"
   ]
  },
  {
   "cell_type": "code",
   "execution_count": 4,
   "metadata": {},
   "outputs": [
    {
     "name": "stdout",
     "output_type": "stream",
     "text": [
      "[0 1 2 3 4 5]\n"
     ]
    }
   ],
   "source": [
    "# convert the colors into numbers so we can use them in our model\n",
    "color_dict = {'red':0, 'blue':1, 'green':2, 'teal':3, 'orange':4, 'purple':5}\n",
    "train_df['color'] = train_df.color.apply(lambda x: color_dict[x])\n",
    "print(train_df.color.unique()) # re-test\n",
    "\n",
    "np.random.shuffle(train_df.values) # shuffle the data"
   ]
  },
  {
   "cell_type": "code",
   "execution_count": 5,
   "metadata": {},
   "outputs": [
    {
     "data": {
      "text/html": [
       "<div>\n",
       "<style scoped>\n",
       "    .dataframe tbody tr th:only-of-type {\n",
       "        vertical-align: middle;\n",
       "    }\n",
       "\n",
       "    .dataframe tbody tr th {\n",
       "        vertical-align: top;\n",
       "    }\n",
       "\n",
       "    .dataframe thead th {\n",
       "        text-align: right;\n",
       "    }\n",
       "</style>\n",
       "<table border=\"1\" class=\"dataframe\">\n",
       "  <thead>\n",
       "    <tr style=\"text-align: right;\">\n",
       "      <th></th>\n",
       "      <th>x</th>\n",
       "      <th>y</th>\n",
       "      <th>color</th>\n",
       "    </tr>\n",
       "  </thead>\n",
       "  <tbody>\n",
       "    <tr>\n",
       "      <td>0</td>\n",
       "      <td>0.129270</td>\n",
       "      <td>1.979720</td>\n",
       "      <td>0</td>\n",
       "    </tr>\n",
       "    <tr>\n",
       "      <td>1</td>\n",
       "      <td>-0.380831</td>\n",
       "      <td>1.693519</td>\n",
       "      <td>0</td>\n",
       "    </tr>\n",
       "    <tr>\n",
       "      <td>2</td>\n",
       "      <td>0.718693</td>\n",
       "      <td>1.791793</td>\n",
       "      <td>0</td>\n",
       "    </tr>\n",
       "    <tr>\n",
       "      <td>3</td>\n",
       "      <td>0.722922</td>\n",
       "      <td>0.620655</td>\n",
       "      <td>0</td>\n",
       "    </tr>\n",
       "    <tr>\n",
       "      <td>4</td>\n",
       "      <td>-0.432689</td>\n",
       "      <td>0.541550</td>\n",
       "      <td>0</td>\n",
       "    </tr>\n",
       "  </tbody>\n",
       "</table>\n",
       "</div>"
      ],
      "text/plain": [
       "          x         y  color\n",
       "0  0.129270  1.979720      0\n",
       "1 -0.380831  1.693519      0\n",
       "2  0.718693  1.791793      0\n",
       "3  0.722922  0.620655      0\n",
       "4 -0.432689  0.541550      0"
      ]
     },
     "execution_count": 5,
     "metadata": {},
     "output_type": "execute_result"
    }
   ],
   "source": [
    "train_df.head()"
   ]
  },
  {
   "cell_type": "markdown",
   "metadata": {},
   "source": [
    "Convert dataframe into numpy array to be used in the network"
   ]
  },
  {
   "cell_type": "code",
   "execution_count": 6,
   "metadata": {},
   "outputs": [
    {
     "name": "stdout",
     "output_type": "stream",
     "text": [
      "x and y values:\n",
      " [[ 0.1292705   1.97972044]\n",
      " [-0.38083105  1.69351856]\n",
      " [ 0.71869315  1.79179293]\n",
      " [ 0.72292171  0.62065463]\n",
      " [-0.43268856  0.54154953]\n",
      " [-0.19876169  0.27999977]\n",
      " [-0.65267906  1.77737626]\n",
      " [ 0.83289698  0.95064167]\n",
      " [ 0.58753543  1.45618939]\n",
      " [ 0.09390232  1.18035608]\n",
      " [-0.95111908  0.75528412]\n",
      " [ 0.51010662  0.11397083]\n",
      " [ 0.13772848  1.42035302]\n",
      " [-0.04770738  0.74682975]\n",
      " [-0.96549485  1.73937582]\n",
      " [ 0.55232197  1.84853073]\n",
      " [ 0.89560012  1.44949938]\n",
      " [-0.73840724  1.92928426]\n",
      " [ 0.2846534   1.29895239]\n",
      " [ 0.6706838   1.52057473]\n",
      " [-0.78192933  1.25234959]\n",
      " [-0.2827387   0.8663863 ]\n",
      " [-0.42308408  1.40472446]\n",
      " [ 0.83283379  0.34069105]\n",
      " [ 0.37876341  1.49807382]]\n",
      "\n",
      "color values:\n",
      " [0 0 0 0 0 0 0 0 0 0 0 0 0 0 0 0 0 0 0 0 0 0 0 0 0]\n"
     ]
    }
   ],
   "source": [
    "train_input_values = np.column_stack((train_df.x.values, train_df.y.values))\n",
    "train_output_values = train_df.color.values\n",
    "\n",
    "print(\"x and y values:\\n\", train_input_values[0:25])\n",
    "print(\"\\ncolor values:\\n\",train_output_values[0:25])"
   ]
  },
  {
   "cell_type": "code",
   "execution_count": 7,
   "metadata": {},
   "outputs": [
    {
     "name": "stdout",
     "output_type": "stream",
     "text": [
      "Train on 6000 samples\n",
      "Epoch 1/10\n",
      "6000/6000 [==============================] - 2s 386us/sample - loss: 1.3529 - accuracy: 0.6383\n",
      "Epoch 2/10\n",
      "6000/6000 [==============================] - 2s 307us/sample - loss: 1.2003 - accuracy: 0.6940\n",
      "Epoch 3/10\n",
      "6000/6000 [==============================] - 2s 297us/sample - loss: 1.1783 - accuracy: 0.7255\n",
      "Epoch 4/10\n",
      "6000/6000 [==============================] - 2s 313us/sample - loss: 1.1592 - accuracy: 0.7675\n",
      "Epoch 5/10\n",
      "6000/6000 [==============================] - 2s 315us/sample - loss: 1.1448 - accuracy: 0.8247\n",
      "Epoch 6/10\n",
      "6000/6000 [==============================] - 2s 307us/sample - loss: 1.1273 - accuracy: 0.9068\n",
      "Epoch 7/10\n",
      "6000/6000 [==============================] - 2s 313us/sample - loss: 1.1071 - accuracy: 0.9500\n",
      "Epoch 8/10\n",
      "6000/6000 [==============================] - 2s 322us/sample - loss: 1.0978 - accuracy: 0.9583\n",
      "Epoch 9/10\n",
      "6000/6000 [==============================] - 2s 302us/sample - loss: 1.0927 - accuracy: 0.9597\n",
      "Epoch 10/10\n",
      "6000/6000 [==============================] - 2s 307us/sample - loss: 1.0869 - accuracy: 0.9672\n"
     ]
    },
    {
     "data": {
      "text/plain": [
       "<tensorflow.python.keras.callbacks.History at 0x1e2a1e86d88>"
      ]
     },
     "execution_count": 7,
     "metadata": {},
     "output_type": "execute_result"
    }
   ],
   "source": [
    "model = keras.Sequential([\n",
    "    keras.layers.Dense(32, input_shape = (2,), activation = 'relu'), # 32 neurons in our first hidden layer\n",
    "    keras.layers.Dense(32, activation = 'relu'), # add another layer\n",
    "    keras.layers.Dropout(0.2), # add a dropout (20%)\n",
    "    keras.layers.Dense(6, activation = 'sigmoid')]) # output layer of 6, representing the colors\n",
    "\n",
    "model.compile(optimizer = 'adam',\n",
    "              loss = keras.losses.SparseCategoricalCrossentropy(from_logits = True),\n",
    "              metrics = ['accuracy'])\n",
    "\n",
    "model.fit(train_input_values, train_output_values, batch_size = 4, epochs = 10)"
   ]
  },
  {
   "cell_type": "markdown",
   "metadata": {},
   "source": [
    "Now we use our model on the test data"
   ]
  },
  {
   "cell_type": "code",
   "execution_count": 8,
   "metadata": {},
   "outputs": [
    {
     "data": {
      "text/html": [
       "<div>\n",
       "<style scoped>\n",
       "    .dataframe tbody tr th:only-of-type {\n",
       "        vertical-align: middle;\n",
       "    }\n",
       "\n",
       "    .dataframe tbody tr th {\n",
       "        vertical-align: top;\n",
       "    }\n",
       "\n",
       "    .dataframe thead th {\n",
       "        text-align: right;\n",
       "    }\n",
       "</style>\n",
       "<table border=\"1\" class=\"dataframe\">\n",
       "  <thead>\n",
       "    <tr style=\"text-align: right;\">\n",
       "      <th></th>\n",
       "      <th>x</th>\n",
       "      <th>y</th>\n",
       "      <th>color</th>\n",
       "    </tr>\n",
       "  </thead>\n",
       "  <tbody>\n",
       "    <tr>\n",
       "      <td>0</td>\n",
       "      <td>-0.173868</td>\n",
       "      <td>1.381852</td>\n",
       "      <td>0</td>\n",
       "    </tr>\n",
       "    <tr>\n",
       "      <td>1</td>\n",
       "      <td>-0.724148</td>\n",
       "      <td>1.883008</td>\n",
       "      <td>0</td>\n",
       "    </tr>\n",
       "    <tr>\n",
       "      <td>2</td>\n",
       "      <td>-0.423915</td>\n",
       "      <td>1.408297</td>\n",
       "      <td>0</td>\n",
       "    </tr>\n",
       "    <tr>\n",
       "      <td>3</td>\n",
       "      <td>-0.650162</td>\n",
       "      <td>1.296067</td>\n",
       "      <td>0</td>\n",
       "    </tr>\n",
       "    <tr>\n",
       "      <td>4</td>\n",
       "      <td>0.957933</td>\n",
       "      <td>0.633111</td>\n",
       "      <td>0</td>\n",
       "    </tr>\n",
       "  </tbody>\n",
       "</table>\n",
       "</div>"
      ],
      "text/plain": [
       "          x         y  color\n",
       "0 -0.173868  1.381852      0\n",
       "1 -0.724148  1.883008      0\n",
       "2 -0.423915  1.408297      0\n",
       "3 -0.650162  1.296067      0\n",
       "4  0.957933  0.633111      0"
      ]
     },
     "execution_count": 8,
     "metadata": {},
     "output_type": "execute_result"
    }
   ],
   "source": [
    "test_df = pd.read_csv('./data/test.csv')\n",
    "test_df['color'] = test_df.color.apply(lambda x: color_dict[x]) # remember to convert the colors to ints\n",
    "test_df.head()"
   ]
  },
  {
   "cell_type": "code",
   "execution_count": 9,
   "metadata": {},
   "outputs": [],
   "source": [
    "test_input_values = np.column_stack((test_df.x.values, test_df.y.values))\n",
    "test_output_values = test_df.color.values"
   ]
  },
  {
   "cell_type": "code",
   "execution_count": 10,
   "metadata": {},
   "outputs": [
    {
     "name": "stdout",
     "output_type": "stream",
     "text": [
      "1200/1200 [==============================] - 0s 123us/sample - loss: 1.0741 - accuracy: 0.9717\n"
     ]
    },
    {
     "data": {
      "text/plain": [
       "[1.07408584912618, 0.9716667]"
      ]
     },
     "execution_count": 10,
     "metadata": {},
     "output_type": "execute_result"
    }
   ],
   "source": [
    "model.evaluate(test_input_values, test_output_values)"
   ]
  },
  {
   "cell_type": "code",
   "execution_count": 14,
   "metadata": {},
   "outputs": [
    {
     "name": "stdout",
     "output_type": "stream",
     "text": [
      "[[0. 0. 0. 0. 0. 1.]]\n",
      "['red' 'blue' 'green' 'teal' 'orange' 'purple']\n",
      "Therefore the co-ordinate values of (0, 3) will give us a purple dot.\n"
     ]
    }
   ],
   "source": [
    "# test a co-ordinate to see if it gives us the correct output\n",
    "print(np.round(model.predict(np.array([[0, 3]]))))\n",
    "print(color_list)\n",
    "print(\"Therefore the co-ordinate values of (0, 3) will give us a purple dot.\")"
   ]
  }
 ],
 "metadata": {
  "kernelspec": {
   "display_name": "Python 3",
   "language": "python",
   "name": "python3"
  },
  "language_info": {
   "codemirror_mode": {
    "name": "ipython",
    "version": 3
   },
   "file_extension": ".py",
   "mimetype": "text/x-python",
   "name": "python",
   "nbconvert_exporter": "python",
   "pygments_lexer": "ipython3",
   "version": "3.7.4"
  }
 },
 "nbformat": 4,
 "nbformat_minor": 2
}
