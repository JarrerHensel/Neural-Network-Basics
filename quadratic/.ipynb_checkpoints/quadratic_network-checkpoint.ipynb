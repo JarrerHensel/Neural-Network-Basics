{
 "cells": [
  {
   "cell_type": "code",
   "execution_count": 1,
   "metadata": {},
   "outputs": [],
   "source": [
    "import tensorflow as tf\n",
    "from tensorflow import keras\n",
    "import pandas as pd\n",
    "import numpy as np"
   ]
  },
  {
   "cell_type": "code",
   "execution_count": 2,
   "metadata": {},
   "outputs": [
    {
     "data": {
      "text/html": [
       "<div>\n",
       "<style scoped>\n",
       "    .dataframe tbody tr th:only-of-type {\n",
       "        vertical-align: middle;\n",
       "    }\n",
       "\n",
       "    .dataframe tbody tr th {\n",
       "        vertical-align: top;\n",
       "    }\n",
       "\n",
       "    .dataframe thead th {\n",
       "        text-align: right;\n",
       "    }\n",
       "</style>\n",
       "<table border=\"1\" class=\"dataframe\">\n",
       "  <thead>\n",
       "    <tr style=\"text-align: right;\">\n",
       "      <th></th>\n",
       "      <th>x</th>\n",
       "      <th>y</th>\n",
       "      <th>color</th>\n",
       "    </tr>\n",
       "  </thead>\n",
       "  <tbody>\n",
       "    <tr>\n",
       "      <td>0</td>\n",
       "      <td>0.421109</td>\n",
       "      <td>1.600751</td>\n",
       "      <td>0.0</td>\n",
       "    </tr>\n",
       "    <tr>\n",
       "      <td>1</td>\n",
       "      <td>-1.021780</td>\n",
       "      <td>-0.429865</td>\n",
       "      <td>1.0</td>\n",
       "    </tr>\n",
       "    <tr>\n",
       "      <td>2</td>\n",
       "      <td>-3.235664</td>\n",
       "      <td>11.626328</td>\n",
       "      <td>0.0</td>\n",
       "    </tr>\n",
       "    <tr>\n",
       "      <td>3</td>\n",
       "      <td>0.143595</td>\n",
       "      <td>-1.535479</td>\n",
       "      <td>1.0</td>\n",
       "    </tr>\n",
       "    <tr>\n",
       "      <td>4</td>\n",
       "      <td>-1.281982</td>\n",
       "      <td>3.427564</td>\n",
       "      <td>0.0</td>\n",
       "    </tr>\n",
       "  </tbody>\n",
       "</table>\n",
       "</div>"
      ],
      "text/plain": [
       "          x          y  color\n",
       "0  0.421109   1.600751    0.0\n",
       "1 -1.021780  -0.429865    1.0\n",
       "2 -3.235664  11.626328    0.0\n",
       "3  0.143595  -1.535479    1.0\n",
       "4 -1.281982   3.427564    0.0"
      ]
     },
     "execution_count": 2,
     "metadata": {},
     "output_type": "execute_result"
    }
   ],
   "source": [
    "train_df = pd.read_csv('./data/train.csv')\n",
    "np.random.shuffle(train_df.values) # shuffle the data\n",
    "train_df.head()"
   ]
  },
  {
   "cell_type": "markdown",
   "metadata": {},
   "source": [
    "Convert dataframe into numpy array to be used in the network"
   ]
  },
  {
   "cell_type": "code",
   "execution_count": 3,
   "metadata": {},
   "outputs": [
    {
     "name": "stdout",
     "output_type": "stream",
     "text": [
      "x and y values:\n",
      " [[ 0.42110923  1.60075106]\n",
      " [-1.02178033 -0.42986545]\n",
      " [-3.23566367 11.62632776]\n",
      " [ 0.14359499 -1.53547879]\n",
      " [-1.28198185  3.42756447]]\n",
      "\n",
      "color values:\n",
      " [0. 1. 0. 1. 0.]\n"
     ]
    }
   ],
   "source": [
    "train_input_values = np.column_stack((train_df.x.values, train_df.y.values))\n",
    "train_output_values = train_df.color.values\n",
    "\n",
    "print(\"x and y values:\\n\", train_input_values[0:5])\n",
    "print(\"\\ncolor values:\\n\",train_output_values[0:5])"
   ]
  },
  {
   "cell_type": "code",
   "execution_count": 8,
   "metadata": {},
   "outputs": [
    {
     "name": "stdout",
     "output_type": "stream",
     "text": [
      "Train on 4000 samples\n",
      "Epoch 1/10\n",
      "4000/4000 [==============================] - 2s 424us/sample - loss: 0.5877 - accuracy: 0.7462\n",
      "Epoch 2/10\n",
      "4000/4000 [==============================] - 1s 312us/sample - loss: 0.4709 - accuracy: 0.8605\n",
      "Epoch 3/10\n",
      "4000/4000 [==============================] - 1s 312us/sample - loss: 0.4057 - accuracy: 0.9268 - l\n",
      "Epoch 4/10\n",
      "4000/4000 [==============================] - 1s 320us/sample - loss: 0.3701 - accuracy: 0.9603\n",
      "Epoch 5/10\n",
      "4000/4000 [==============================] - 1s 310us/sample - loss: 0.3483 - accuracy: 0.9787 - loss: 0.351\n",
      "Epoch 6/10\n",
      "4000/4000 [==============================] - 1s 324us/sample - loss: 0.3401 - accuracy: 0.9840\n",
      "Epoch 7/10\n",
      "4000/4000 [==============================] - 1s 316us/sample - loss: 0.3319 - accuracy: 0.9893\n",
      "Epoch 8/10\n",
      "4000/4000 [==============================] - 1s 310us/sample - loss: 0.3319 - accuracy: 0.9855\n",
      "Epoch 9/10\n",
      "4000/4000 [==============================] - 1s 305us/sample - loss: 0.3375 - accuracy: 0.9790\n",
      "Epoch 10/10\n",
      "4000/4000 [==============================] - 1s 310us/sample - loss: 0.3339 - accuracy: 0.9805\n"
     ]
    },
    {
     "data": {
      "text/plain": [
       "<tensorflow.python.keras.callbacks.History at 0x2475c8fcb08>"
      ]
     },
     "execution_count": 8,
     "metadata": {},
     "output_type": "execute_result"
    }
   ],
   "source": [
    "model = keras.Sequential([\n",
    "    keras.layers.Dense(32, input_shape = (2,), activation = 'relu'), # 32 neurons in our first hidden layer\n",
    "    keras.layers.Dense(32, input_shape = (2,), activation = 'relu'), # add another layer\n",
    "    keras.layers.Dropout(0.2), # add a dropout (20%)\n",
    "    keras.layers.Dense(2, activation = 'sigmoid')]) # output layer of 2\n",
    "\n",
    "model.compile(optimizer = 'adam',\n",
    "              loss = keras.losses.SparseCategoricalCrossentropy(from_logits = True),\n",
    "              metrics = ['accuracy'])\n",
    "\n",
    "model.fit(train_input_values, train_output_values, batch_size = 4, epochs = 10)"
   ]
  },
  {
   "cell_type": "markdown",
   "metadata": {},
   "source": [
    "Now we use our model on the test data"
   ]
  },
  {
   "cell_type": "code",
   "execution_count": 9,
   "metadata": {},
   "outputs": [
    {
     "data": {
      "text/html": [
       "<div>\n",
       "<style scoped>\n",
       "    .dataframe tbody tr th:only-of-type {\n",
       "        vertical-align: middle;\n",
       "    }\n",
       "\n",
       "    .dataframe tbody tr th {\n",
       "        vertical-align: top;\n",
       "    }\n",
       "\n",
       "    .dataframe thead th {\n",
       "        text-align: right;\n",
       "    }\n",
       "</style>\n",
       "<table border=\"1\" class=\"dataframe\">\n",
       "  <thead>\n",
       "    <tr style=\"text-align: right;\">\n",
       "      <th></th>\n",
       "      <th>x</th>\n",
       "      <th>y</th>\n",
       "      <th>color</th>\n",
       "    </tr>\n",
       "  </thead>\n",
       "  <tbody>\n",
       "    <tr>\n",
       "      <td>0</td>\n",
       "      <td>-0.709694</td>\n",
       "      <td>1.902953</td>\n",
       "      <td>0.0</td>\n",
       "    </tr>\n",
       "    <tr>\n",
       "      <td>1</td>\n",
       "      <td>1.358063</td>\n",
       "      <td>2.923887</td>\n",
       "      <td>0.0</td>\n",
       "    </tr>\n",
       "    <tr>\n",
       "      <td>2</td>\n",
       "      <td>-0.684174</td>\n",
       "      <td>2.125850</td>\n",
       "      <td>0.0</td>\n",
       "    </tr>\n",
       "    <tr>\n",
       "      <td>3</td>\n",
       "      <td>3.190384</td>\n",
       "      <td>11.425374</td>\n",
       "      <td>0.0</td>\n",
       "    </tr>\n",
       "    <tr>\n",
       "      <td>4</td>\n",
       "      <td>-1.225524</td>\n",
       "      <td>3.178416</td>\n",
       "      <td>0.0</td>\n",
       "    </tr>\n",
       "  </tbody>\n",
       "</table>\n",
       "</div>"
      ],
      "text/plain": [
       "          x          y  color\n",
       "0 -0.709694   1.902953    0.0\n",
       "1  1.358063   2.923887    0.0\n",
       "2 -0.684174   2.125850    0.0\n",
       "3  3.190384  11.425374    0.0\n",
       "4 -1.225524   3.178416    0.0"
      ]
     },
     "execution_count": 9,
     "metadata": {},
     "output_type": "execute_result"
    }
   ],
   "source": [
    "test_df = pd.read_csv('./data/test.csv')\n",
    "test_df.head()"
   ]
  },
  {
   "cell_type": "code",
   "execution_count": 10,
   "metadata": {},
   "outputs": [],
   "source": [
    "test_input_values = np.column_stack((test_df.x.values, test_df.y.values))\n",
    "test_output_values = test_df.color.values"
   ]
  },
  {
   "cell_type": "code",
   "execution_count": 11,
   "metadata": {},
   "outputs": [
    {
     "name": "stdout",
     "output_type": "stream",
     "text": [
      "1000/1000 [==============================] - 0s 160us/sample - loss: 0.3170 - accuracy: 1.0000\n"
     ]
    },
    {
     "data": {
      "text/plain": [
       "[0.31695764970779416, 1.0]"
      ]
     },
     "execution_count": 11,
     "metadata": {},
     "output_type": "execute_result"
    }
   ],
   "source": [
    "model.evaluate(test_input_values, test_output_values)"
   ]
  }
 ],
 "metadata": {
  "kernelspec": {
   "display_name": "Python 3",
   "language": "python",
   "name": "python3"
  },
  "language_info": {
   "codemirror_mode": {
    "name": "ipython",
    "version": 3
   },
   "file_extension": ".py",
   "mimetype": "text/x-python",
   "name": "python",
   "nbconvert_exporter": "python",
   "pygments_lexer": "ipython3",
   "version": "3.7.4"
  }
 },
 "nbformat": 4,
 "nbformat_minor": 2
}
