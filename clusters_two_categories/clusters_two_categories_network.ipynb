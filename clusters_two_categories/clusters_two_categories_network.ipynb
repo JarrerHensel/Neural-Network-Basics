{
 "cells": [
  {
   "cell_type": "code",
   "execution_count": 1,
   "metadata": {},
   "outputs": [],
   "source": [
    "import tensorflow as tf\n",
    "from tensorflow import keras\n",
    "import pandas as pd\n",
    "import numpy as np"
   ]
  },
  {
   "cell_type": "code",
   "execution_count": 2,
   "metadata": {},
   "outputs": [
    {
     "data": {
      "text/html": [
       "<div>\n",
       "<style scoped>\n",
       "    .dataframe tbody tr th:only-of-type {\n",
       "        vertical-align: middle;\n",
       "    }\n",
       "\n",
       "    .dataframe tbody tr th {\n",
       "        vertical-align: top;\n",
       "    }\n",
       "\n",
       "    .dataframe thead th {\n",
       "        text-align: right;\n",
       "    }\n",
       "</style>\n",
       "<table border=\"1\" class=\"dataframe\">\n",
       "  <thead>\n",
       "    <tr style=\"text-align: right;\">\n",
       "      <th></th>\n",
       "      <th>x</th>\n",
       "      <th>y</th>\n",
       "      <th>color</th>\n",
       "      <th>marker</th>\n",
       "    </tr>\n",
       "  </thead>\n",
       "  <tbody>\n",
       "    <tr>\n",
       "      <td>0</td>\n",
       "      <td>-0.765775</td>\n",
       "      <td>1.006452</td>\n",
       "      <td>red</td>\n",
       "      <td>^</td>\n",
       "    </tr>\n",
       "    <tr>\n",
       "      <td>1</td>\n",
       "      <td>0.229016</td>\n",
       "      <td>0.094320</td>\n",
       "      <td>red</td>\n",
       "      <td>^</td>\n",
       "    </tr>\n",
       "    <tr>\n",
       "      <td>2</td>\n",
       "      <td>0.189987</td>\n",
       "      <td>1.589141</td>\n",
       "      <td>red</td>\n",
       "      <td>^</td>\n",
       "    </tr>\n",
       "    <tr>\n",
       "      <td>3</td>\n",
       "      <td>0.580085</td>\n",
       "      <td>0.520488</td>\n",
       "      <td>red</td>\n",
       "      <td>^</td>\n",
       "    </tr>\n",
       "    <tr>\n",
       "      <td>4</td>\n",
       "      <td>0.292287</td>\n",
       "      <td>0.317852</td>\n",
       "      <td>red</td>\n",
       "      <td>^</td>\n",
       "    </tr>\n",
       "  </tbody>\n",
       "</table>\n",
       "</div>"
      ],
      "text/plain": [
       "          x         y color marker\n",
       "0 -0.765775  1.006452   red      ^\n",
       "1  0.229016  0.094320   red      ^\n",
       "2  0.189987  1.589141   red      ^\n",
       "3  0.580085  0.520488   red      ^\n",
       "4  0.292287  0.317852   red      ^"
      ]
     },
     "execution_count": 2,
     "metadata": {},
     "output_type": "execute_result"
    }
   ],
   "source": [
    "train_df = pd.read_csv('./data/train.csv')\n",
    "train_df.head()"
   ]
  },
  {
   "cell_type": "code",
   "execution_count": 3,
   "metadata": {},
   "outputs": [
    {
     "name": "stdout",
     "output_type": "stream",
     "text": [
      "['red' 'blue' 'green' 'teal' 'orange' 'purple']\n",
      "['^' '+' '*']\n",
      "['red' 'blue' 'green' 'teal' 'orange' 'purple' '^' '+' '*']\n"
     ]
    }
   ],
   "source": [
    "# check the different color and marker options\n",
    "color_list = train_df.color.unique()\n",
    "print(train_df.color.unique())\n",
    "marker_list = train_df.marker.unique()\n",
    "print(train_df.marker.unique())\n",
    "output_list = np.concatenate((color_list, marker_list), axis = 0)\n",
    "print(output_list)"
   ]
  },
  {
   "cell_type": "code",
   "execution_count": 4,
   "metadata": {},
   "outputs": [
    {
     "name": "stdout",
     "output_type": "stream",
     "text": [
      "[[0 0 0 0 1 0 0 0 1]\n",
      " [0 0 0 0 1 0 0 0 1]\n",
      " [0 0 0 0 1 0 0 0 1]\n",
      " [0 0 0 0 1 0 0 0 1]\n",
      " [0 0 0 0 1 0 0 0 1]]\n"
     ]
    }
   ],
   "source": [
    "# convert the colors and markers into numbers in hot format: eg. [0 0 0 0 0 1 0 1 0] (colors first 5, markers last 3)\n",
    "one_hot_color = pd.get_dummies(train_df.color).values\n",
    "one_hot_marker = pd.get_dummies(train_df.marker).values\n",
    "train_output_values = np.concatenate((one_hot_color, one_hot_marker), axis = 1)\n",
    "print(train_output_values[0:5])"
   ]
  },
  {
   "cell_type": "markdown",
   "metadata": {},
   "source": [
    "Convert dataframe into numpy array to be used in the network"
   ]
  },
  {
   "cell_type": "code",
   "execution_count": 5,
   "metadata": {},
   "outputs": [
    {
     "name": "stdout",
     "output_type": "stream",
     "text": [
      "x and y values:\n",
      " [[-2.38000522  2.70663374]\n",
      " [-0.82326915  4.45782714]\n",
      " [-1.02869568  2.34328854]\n",
      " [-0.66852994  2.68389823]\n",
      " [-2.885875    2.44154295]]\n",
      "\n",
      "color and marker hot values:\n",
      " [[0 0 1 0 0 0 0 1 0]\n",
      " [1 0 0 0 0 0 0 0 1]\n",
      " [0 0 1 0 0 0 0 1 0]\n",
      " [0 0 0 1 0 0 1 0 0]\n",
      " [0 0 1 0 0 0 0 1 0]]\n"
     ]
    }
   ],
   "source": [
    "train_input_values = np.column_stack((train_df.x.values, train_df.y.values))\n",
    "\n",
    "# shuffle the data, ensuring input and output are shuffled in sync\n",
    "np.random.RandomState(seed = 69).shuffle(train_input_values)\n",
    "np.random.RandomState(seed = 69).shuffle(train_output_values)\n",
    "\n",
    "print(\"x and y values:\\n\", train_input_values[0:5])\n",
    "print(\"\\ncolor and marker hot values:\\n\",train_output_values[0:5])"
   ]
  },
  {
   "cell_type": "code",
   "execution_count": 6,
   "metadata": {},
   "outputs": [
    {
     "name": "stdout",
     "output_type": "stream",
     "text": [
      "Train on 6000 samples\n",
      "Epoch 1/10\n",
      "6000/6000 [==============================] - 3s 418us/sample - loss: 0.6726 - accuracy: 0.8492\n",
      "Epoch 2/10\n",
      "6000/6000 [==============================] - 2s 344us/sample - loss: 0.6563 - accuracy: 0.8789\n",
      "Epoch 3/10\n",
      "6000/6000 [==============================] - 2s 373us/sample - loss: 0.6548 - accuracy: 0.8822\n",
      "Epoch 4/10\n",
      "6000/6000 [==============================] - 2s 382us/sample - loss: 0.6539 - accuracy: 0.8835\n",
      "Epoch 5/10\n",
      "6000/6000 [==============================] - 2s 382us/sample - loss: 0.6499 - accuracy: 0.8957\n",
      "Epoch 6/10\n",
      "6000/6000 [==============================] - 2s 366us/sample - loss: 0.6450 - accuracy: 0.9101\n",
      "Epoch 7/10\n",
      "6000/6000 [==============================] - 3s 425us/sample - loss: 0.6419 - accuracy: 0.9171\n",
      "Epoch 8/10\n",
      "6000/6000 [==============================] - 2s 355us/sample - loss: 0.6366 - accuracy: 0.9322\n",
      "Epoch 9/10\n",
      "6000/6000 [==============================] - 2s 356us/sample - loss: 0.6352 - accuracy: 0.9350\n",
      "Epoch 10/10\n",
      "6000/6000 [==============================] - 2s 376us/sample - loss: 0.6346 - accuracy: 0.9359\n"
     ]
    },
    {
     "data": {
      "text/plain": [
       "<tensorflow.python.keras.callbacks.History at 0x1d354b574c8>"
      ]
     },
     "execution_count": 6,
     "metadata": {},
     "output_type": "execute_result"
    }
   ],
   "source": [
    "model = keras.Sequential([\n",
    "    keras.layers.Dense(64, input_shape = (2,), activation = 'relu'), # 64 neurons in our first hidden layer\n",
    "    keras.layers.Dense(64, activation = 'relu'), # add another layer\n",
    "    keras.layers.Dense(9, activation = 'sigmoid')]) # output layer of 9, representing the colors and markers\n",
    "\n",
    "model.compile(optimizer = 'adam',\n",
    "              loss = keras.losses.BinaryCrossentropy(from_logits = True), # Get rid of Sparse\n",
    "              metrics = ['accuracy'])\n",
    "\n",
    "model.fit(train_input_values, train_output_values, batch_size = 4, epochs = 10)"
   ]
  },
  {
   "cell_type": "markdown",
   "metadata": {},
   "source": [
    "Now we use our model on the test data"
   ]
  },
  {
   "cell_type": "code",
   "execution_count": 7,
   "metadata": {},
   "outputs": [
    {
     "data": {
      "text/html": [
       "<div>\n",
       "<style scoped>\n",
       "    .dataframe tbody tr th:only-of-type {\n",
       "        vertical-align: middle;\n",
       "    }\n",
       "\n",
       "    .dataframe tbody tr th {\n",
       "        vertical-align: top;\n",
       "    }\n",
       "\n",
       "    .dataframe thead th {\n",
       "        text-align: right;\n",
       "    }\n",
       "</style>\n",
       "<table border=\"1\" class=\"dataframe\">\n",
       "  <thead>\n",
       "    <tr style=\"text-align: right;\">\n",
       "      <th></th>\n",
       "      <th>x</th>\n",
       "      <th>y</th>\n",
       "      <th>color</th>\n",
       "      <th>marker</th>\n",
       "    </tr>\n",
       "  </thead>\n",
       "  <tbody>\n",
       "    <tr>\n",
       "      <td>0</td>\n",
       "      <td>-0.129697</td>\n",
       "      <td>0.773598</td>\n",
       "      <td>red</td>\n",
       "      <td>^</td>\n",
       "    </tr>\n",
       "    <tr>\n",
       "      <td>1</td>\n",
       "      <td>0.341569</td>\n",
       "      <td>0.505299</td>\n",
       "      <td>red</td>\n",
       "      <td>^</td>\n",
       "    </tr>\n",
       "    <tr>\n",
       "      <td>2</td>\n",
       "      <td>0.168562</td>\n",
       "      <td>1.397924</td>\n",
       "      <td>red</td>\n",
       "      <td>^</td>\n",
       "    </tr>\n",
       "    <tr>\n",
       "      <td>3</td>\n",
       "      <td>-0.738458</td>\n",
       "      <td>0.097241</td>\n",
       "      <td>red</td>\n",
       "      <td>^</td>\n",
       "    </tr>\n",
       "    <tr>\n",
       "      <td>4</td>\n",
       "      <td>0.311101</td>\n",
       "      <td>1.669878</td>\n",
       "      <td>red</td>\n",
       "      <td>^</td>\n",
       "    </tr>\n",
       "  </tbody>\n",
       "</table>\n",
       "</div>"
      ],
      "text/plain": [
       "          x         y color marker\n",
       "0 -0.129697  0.773598   red      ^\n",
       "1  0.341569  0.505299   red      ^\n",
       "2  0.168562  1.397924   red      ^\n",
       "3 -0.738458  0.097241   red      ^\n",
       "4  0.311101  1.669878   red      ^"
      ]
     },
     "execution_count": 7,
     "metadata": {},
     "output_type": "execute_result"
    }
   ],
   "source": [
    "test_df = pd.read_csv('./data/test.csv')\n",
    "test_input_values = np.column_stack((test_df.x.values, test_df.y.values))\n",
    "\n",
    "# convert the colors and markers to ints\n",
    "test_one_hot_color = pd.get_dummies(test_df.color).values\n",
    "test_one_hot_marker = pd.get_dummies(test_df.marker).values\n",
    "test_output_values = np.concatenate((test_one_hot_color, test_one_hot_marker), axis = 1)\n",
    "\n",
    "test_df.head()"
   ]
  },
  {
   "cell_type": "code",
   "execution_count": 8,
   "metadata": {},
   "outputs": [
    {
     "name": "stdout",
     "output_type": "stream",
     "text": [
      "1200/1200 [==============================] - 0s 159us/sample - loss: 0.6351 - accuracy: 0.9331\n"
     ]
    },
    {
     "data": {
      "text/plain": [
       "[0.6350663216908773, 0.9330555]"
      ]
     },
     "execution_count": 8,
     "metadata": {},
     "output_type": "execute_result"
    }
   ],
   "source": [
    "model.evaluate(test_input_values, test_output_values)"
   ]
  },
  {
   "cell_type": "code",
   "execution_count": 11,
   "metadata": {},
   "outputs": [
    {
     "name": "stdout",
     "output_type": "stream",
     "text": [
      "['red' 'blue' 'green' 'teal' 'orange' 'purple' '^' '+' '*']\n",
      "[[0. 0. 0. 1. 0. 0. 1. 0. 0.]\n",
      " [0. 0. 0. 0. 1. 0. 0. 0. 1.]\n",
      " [0. 1. 0. 0. 0. 0. 0. 1. 0.]]\n"
     ]
    }
   ],
   "source": [
    "# test a co-ordinate to see if it gives us the correct output\n",
    "print(output_list)\n",
    "print(np.round(model.predict(np.array([[0, 3], [0, 1], [-2, 1]]))))"
   ]
  }
 ],
 "metadata": {
  "kernelspec": {
   "display_name": "Python 3",
   "language": "python",
   "name": "python3"
  },
  "language_info": {
   "codemirror_mode": {
    "name": "ipython",
    "version": 3
   },
   "file_extension": ".py",
   "mimetype": "text/x-python",
   "name": "python",
   "nbconvert_exporter": "python",
   "pygments_lexer": "ipython3",
   "version": "3.7.4"
  }
 },
 "nbformat": 4,
 "nbformat_minor": 2
}
