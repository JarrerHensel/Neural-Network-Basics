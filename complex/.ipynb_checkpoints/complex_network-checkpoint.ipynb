{
 "cells": [
  {
   "cell_type": "code",
   "execution_count": 1,
   "metadata": {},
   "outputs": [],
   "source": [
    "import tensorflow as tf\n",
    "from tensorflow import keras\n",
    "import pandas as pd\n",
    "import numpy as np"
   ]
  },
  {
   "cell_type": "code",
   "execution_count": 2,
   "metadata": {},
   "outputs": [
    {
     "data": {
      "text/html": [
       "<div>\n",
       "<style scoped>\n",
       "    .dataframe tbody tr th:only-of-type {\n",
       "        vertical-align: middle;\n",
       "    }\n",
       "\n",
       "    .dataframe tbody tr th {\n",
       "        vertical-align: top;\n",
       "    }\n",
       "\n",
       "    .dataframe thead th {\n",
       "        text-align: right;\n",
       "    }\n",
       "</style>\n",
       "<table border=\"1\" class=\"dataframe\">\n",
       "  <thead>\n",
       "    <tr style=\"text-align: right;\">\n",
       "      <th></th>\n",
       "      <th>x</th>\n",
       "      <th>y</th>\n",
       "      <th>color</th>\n",
       "    </tr>\n",
       "  </thead>\n",
       "  <tbody>\n",
       "    <tr>\n",
       "      <td>0</td>\n",
       "      <td>-3.839232</td>\n",
       "      <td>-0.007400</td>\n",
       "      <td>0.0</td>\n",
       "    </tr>\n",
       "    <tr>\n",
       "      <td>1</td>\n",
       "      <td>-3.380274</td>\n",
       "      <td>-1.854128</td>\n",
       "      <td>1.0</td>\n",
       "    </tr>\n",
       "    <tr>\n",
       "      <td>2</td>\n",
       "      <td>-3.945798</td>\n",
       "      <td>1.071641</td>\n",
       "      <td>1.0</td>\n",
       "    </tr>\n",
       "    <tr>\n",
       "      <td>3</td>\n",
       "      <td>-1.634877</td>\n",
       "      <td>-3.891426</td>\n",
       "      <td>1.0</td>\n",
       "    </tr>\n",
       "    <tr>\n",
       "      <td>4</td>\n",
       "      <td>3.609302</td>\n",
       "      <td>-2.684340</td>\n",
       "      <td>0.0</td>\n",
       "    </tr>\n",
       "  </tbody>\n",
       "</table>\n",
       "</div>"
      ],
      "text/plain": [
       "          x         y  color\n",
       "0 -3.839232 -0.007400    0.0\n",
       "1 -3.380274 -1.854128    1.0\n",
       "2 -3.945798  1.071641    1.0\n",
       "3 -1.634877 -3.891426    1.0\n",
       "4  3.609302 -2.684340    0.0"
      ]
     },
     "execution_count": 2,
     "metadata": {},
     "output_type": "execute_result"
    }
   ],
   "source": [
    "train_df = pd.read_csv('./data/train.csv')\n",
    "np.random.shuffle(train_df.values) # shuffle the data\n",
    "train_df.head()"
   ]
  },
  {
   "cell_type": "markdown",
   "metadata": {},
   "source": [
    "Convert dataframe into numpy array to be used in the network"
   ]
  },
  {
   "cell_type": "code",
   "execution_count": 3,
   "metadata": {},
   "outputs": [
    {
     "name": "stdout",
     "output_type": "stream",
     "text": [
      "x and y values:\n",
      " [[-3.8392317  -0.00739983]\n",
      " [-3.38027357 -1.85412824]\n",
      " [-3.94579822  1.07164053]\n",
      " [-1.63487739 -3.89142595]\n",
      " [ 3.60930183 -2.68433969]]\n",
      "\n",
      "color values:\n",
      " [0. 1. 1. 1. 0.]\n"
     ]
    }
   ],
   "source": [
    "train_input_values = np.column_stack((train_df.x.values, train_df.y.values))\n",
    "train_output_values = train_df.color.values\n",
    "\n",
    "print(\"x and y values:\\n\", train_input_values[0:5])\n",
    "print(\"\\ncolor values:\\n\",train_output_values[0:5])"
   ]
  },
  {
   "cell_type": "code",
   "execution_count": null,
   "metadata": {},
   "outputs": [
    {
     "name": "stdout",
     "output_type": "stream",
     "text": [
      "Train on 20000 samples\n",
      "Epoch 1/10\n",
      "20000/20000 [==============================] - 7s 347us/sample - loss: 0.6253 - accuracy: 0.6471\n",
      "Epoch 2/10\n",
      "20000/20000 [==============================] - 6s 317us/sample - loss: 0.5765 - accuracy: 0.7262\n",
      "Epoch 3/10\n",
      "20000/20000 [==============================] - 6s 320us/sample - loss: 0.5522 - accuracy: 0.7526\n",
      "Epoch 4/10\n",
      "20000/20000 [==============================] - 6s 319us/sample - loss: 0.5395 - accuracy: 0.7650\n",
      "Epoch 5/10\n",
      "20000/20000 [==============================] - 7s 327us/sample - loss: 0.5309 - accuracy: 0.7742\n",
      "Epoch 6/10\n",
      "20000/20000 [==============================] - 6s 324us/sample - loss: 0.5245 - accuracy: 0.7819\n",
      "Epoch 7/10\n",
      " 5912/20000 [=======>......................] - ETA: 4s - loss: 0.5181 - accuracy: 0.7908"
     ]
    }
   ],
   "source": [
    "model = keras.Sequential([\n",
    "    keras.layers.Dense(128, input_shape = (2,), activation = 'relu'), # 32 neurons in our first hidden layer\n",
    "    keras.layers.Dropout(0.2), # add a dropout (20%)\n",
    "    keras.layers.Dense(128, input_shape = (2,), activation = 'relu'), # add another layer\n",
    "        keras.layers.Dense(128, input_shape = (2,), activation = 'relu'), # add another layer\n",
    "    keras.layers.Dense(2, activation = 'sigmoid')]) # output layer of 2\n",
    "\n",
    "model.compile(optimizer = 'adam',\n",
    "              loss = keras.losses.SparseCategoricalCrossentropy(from_logits = True),\n",
    "              metrics = ['accuracy'])\n",
    "\n",
    "model.fit(train_input_values, train_output_values, batch_size = 4, epochs = 10)"
   ]
  },
  {
   "cell_type": "markdown",
   "metadata": {},
   "source": [
    "Now we use our model on the test data"
   ]
  },
  {
   "cell_type": "code",
   "execution_count": null,
   "metadata": {},
   "outputs": [],
   "source": [
    "test_df = pd.read_csv('./data/test.csv')\n",
    "test_df.head()"
   ]
  },
  {
   "cell_type": "code",
   "execution_count": null,
   "metadata": {},
   "outputs": [],
   "source": [
    "test_input_values = np.column_stack((test_df.x.values, test_df.y.values))\n",
    "test_output_values = test_df.color.values"
   ]
  },
  {
   "cell_type": "code",
   "execution_count": null,
   "metadata": {},
   "outputs": [],
   "source": [
    "model.evaluate(test_input_values, test_output_values)"
   ]
  }
 ],
 "metadata": {
  "kernelspec": {
   "display_name": "Python 3",
   "language": "python",
   "name": "python3"
  },
  "language_info": {
   "codemirror_mode": {
    "name": "ipython",
    "version": 3
   },
   "file_extension": ".py",
   "mimetype": "text/x-python",
   "name": "python",
   "nbconvert_exporter": "python",
   "pygments_lexer": "ipython3",
   "version": "3.7.4"
  }
 },
 "nbformat": 4,
 "nbformat_minor": 2
}
