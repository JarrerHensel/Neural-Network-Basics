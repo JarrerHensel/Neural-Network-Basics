{
 "cells": [
  {
   "cell_type": "code",
   "execution_count": 1,
   "metadata": {},
   "outputs": [],
   "source": [
    "import tensorflow as tf\n",
    "from tensorflow import keras\n",
    "import pandas as pd\n",
    "import numpy as np"
   ]
  },
  {
   "cell_type": "code",
   "execution_count": 2,
   "metadata": {},
   "outputs": [
    {
     "data": {
      "text/html": [
       "<div>\n",
       "<style scoped>\n",
       "    .dataframe tbody tr th:only-of-type {\n",
       "        vertical-align: middle;\n",
       "    }\n",
       "\n",
       "    .dataframe tbody tr th {\n",
       "        vertical-align: top;\n",
       "    }\n",
       "\n",
       "    .dataframe thead th {\n",
       "        text-align: right;\n",
       "    }\n",
       "</style>\n",
       "<table border=\"1\" class=\"dataframe\">\n",
       "  <thead>\n",
       "    <tr style=\"text-align: right;\">\n",
       "      <th></th>\n",
       "      <th>x</th>\n",
       "      <th>y</th>\n",
       "      <th>color</th>\n",
       "    </tr>\n",
       "  </thead>\n",
       "  <tbody>\n",
       "    <tr>\n",
       "      <td>0</td>\n",
       "      <td>-3.839232</td>\n",
       "      <td>-0.007400</td>\n",
       "      <td>0.0</td>\n",
       "    </tr>\n",
       "    <tr>\n",
       "      <td>1</td>\n",
       "      <td>-3.380274</td>\n",
       "      <td>-1.854128</td>\n",
       "      <td>1.0</td>\n",
       "    </tr>\n",
       "    <tr>\n",
       "      <td>2</td>\n",
       "      <td>-3.945798</td>\n",
       "      <td>1.071641</td>\n",
       "      <td>1.0</td>\n",
       "    </tr>\n",
       "    <tr>\n",
       "      <td>3</td>\n",
       "      <td>-1.634877</td>\n",
       "      <td>-3.891426</td>\n",
       "      <td>1.0</td>\n",
       "    </tr>\n",
       "    <tr>\n",
       "      <td>4</td>\n",
       "      <td>3.609302</td>\n",
       "      <td>-2.684340</td>\n",
       "      <td>0.0</td>\n",
       "    </tr>\n",
       "  </tbody>\n",
       "</table>\n",
       "</div>"
      ],
      "text/plain": [
       "          x         y  color\n",
       "0 -3.839232 -0.007400    0.0\n",
       "1 -3.380274 -1.854128    1.0\n",
       "2 -3.945798  1.071641    1.0\n",
       "3 -1.634877 -3.891426    1.0\n",
       "4  3.609302 -2.684340    0.0"
      ]
     },
     "execution_count": 2,
     "metadata": {},
     "output_type": "execute_result"
    }
   ],
   "source": [
    "train_df = pd.read_csv('./data/train.csv')\n",
    "np.random.shuffle(train_df.values) # shuffle the data\n",
    "train_df.head()"
   ]
  },
  {
   "cell_type": "markdown",
   "metadata": {},
   "source": [
    "Convert dataframe into numpy array to be used in the network"
   ]
  },
  {
   "cell_type": "code",
   "execution_count": 3,
   "metadata": {},
   "outputs": [
    {
     "name": "stdout",
     "output_type": "stream",
     "text": [
      "x and y values:\n",
      " [[-3.8392317  -0.00739983]\n",
      " [-3.38027357 -1.85412824]\n",
      " [-3.94579822  1.07164053]\n",
      " [-1.63487739 -3.89142595]\n",
      " [ 3.60930183 -2.68433969]]\n",
      "\n",
      "color values:\n",
      " [0. 1. 1. 1. 0.]\n"
     ]
    }
   ],
   "source": [
    "train_input_values = np.column_stack((train_df.x.values, train_df.y.values))\n",
    "train_output_values = train_df.color.values\n",
    "\n",
    "print(\"x and y values:\\n\", train_input_values[0:5])\n",
    "print(\"\\ncolor values:\\n\",train_output_values[0:5])"
   ]
  },
  {
   "cell_type": "code",
   "execution_count": 15,
   "metadata": {},
   "outputs": [
    {
     "name": "stdout",
     "output_type": "stream",
     "text": [
      "Train on 20000 samples\n",
      "Epoch 1/10\n",
      "20000/20000 [==============================] - 3s 171us/sample - loss: 0.6305 - accuracy: 0.6351\n",
      "Epoch 2/10\n",
      "20000/20000 [==============================] - 3s 136us/sample - loss: 0.5801 - accuracy: 0.7164\n",
      "Epoch 3/10\n",
      "20000/20000 [==============================] - 3s 134us/sample - loss: 0.5533 - accuracy: 0.7430\n",
      "Epoch 4/10\n",
      "20000/20000 [==============================] - 3s 139us/sample - loss: 0.5468 - accuracy: 0.7505\n",
      "Epoch 5/10\n",
      "20000/20000 [==============================] - 3s 146us/sample - loss: 0.5389 - accuracy: 0.7553\n",
      "Epoch 6/10\n",
      "20000/20000 [==============================] - 3s 135us/sample - loss: 0.5332 - accuracy: 0.7573\n",
      "Epoch 7/10\n",
      "20000/20000 [==============================] - 3s 136us/sample - loss: 0.5299 - accuracy: 0.7603\n",
      "Epoch 8/10\n",
      "20000/20000 [==============================] - 3s 133us/sample - loss: 0.5275 - accuracy: 0.7619\n",
      "Epoch 9/10\n",
      "20000/20000 [==============================] - 3s 133us/sample - loss: 0.5262 - accuracy: 0.7653\n",
      "Epoch 10/10\n",
      "20000/20000 [==============================] - 3s 134us/sample - loss: 0.5227 - accuracy: 0.7668\n"
     ]
    },
    {
     "data": {
      "text/plain": [
       "<tensorflow.python.keras.callbacks.History at 0x253b1e2bb48>"
      ]
     },
     "execution_count": 15,
     "metadata": {},
     "output_type": "execute_result"
    }
   ],
   "source": [
    "model = keras.Sequential([\n",
    "    keras.layers.Dense(256, input_shape = (2,), activation = 'relu'), # 32 neurons in our first hidden layer\n",
    "    keras.layers.Dropout(0.4), # add a dropout (40%)\n",
    "    keras.layers.Dense(128, input_shape = (2,), activation = 'relu'), # add another layer\n",
    "    keras.layers.Dropout(0.4), # add a dropout (40%)\n",
    "    keras.layers.Dense(128, input_shape = (2,), activation = 'relu'), # add another layer\n",
    "    keras.layers.Dense(2, activation = 'sigmoid')]) # output layer of 2\n",
    "\n",
    "model.compile(optimizer = 'adam',\n",
    "              loss = keras.losses.SparseCategoricalCrossentropy(from_logits = True),\n",
    "              metrics = ['accuracy'])\n",
    "\n",
    "model.fit(train_input_values, train_output_values, batch_size = 16, epochs = 10)"
   ]
  },
  {
   "cell_type": "markdown",
   "metadata": {},
   "source": [
    "Now we use our model on the test data"
   ]
  },
  {
   "cell_type": "code",
   "execution_count": 16,
   "metadata": {},
   "outputs": [
    {
     "data": {
      "text/html": [
       "<div>\n",
       "<style scoped>\n",
       "    .dataframe tbody tr th:only-of-type {\n",
       "        vertical-align: middle;\n",
       "    }\n",
       "\n",
       "    .dataframe tbody tr th {\n",
       "        vertical-align: top;\n",
       "    }\n",
       "\n",
       "    .dataframe thead th {\n",
       "        text-align: right;\n",
       "    }\n",
       "</style>\n",
       "<table border=\"1\" class=\"dataframe\">\n",
       "  <thead>\n",
       "    <tr style=\"text-align: right;\">\n",
       "      <th></th>\n",
       "      <th>x</th>\n",
       "      <th>y</th>\n",
       "      <th>color</th>\n",
       "    </tr>\n",
       "  </thead>\n",
       "  <tbody>\n",
       "    <tr>\n",
       "      <td>0</td>\n",
       "      <td>-2.451839</td>\n",
       "      <td>-3.967665</td>\n",
       "      <td>1.0</td>\n",
       "    </tr>\n",
       "    <tr>\n",
       "      <td>1</td>\n",
       "      <td>-4.077216</td>\n",
       "      <td>1.063597</td>\n",
       "      <td>1.0</td>\n",
       "    </tr>\n",
       "    <tr>\n",
       "      <td>2</td>\n",
       "      <td>1.718660</td>\n",
       "      <td>-4.612983</td>\n",
       "      <td>1.0</td>\n",
       "    </tr>\n",
       "    <tr>\n",
       "      <td>3</td>\n",
       "      <td>-2.187174</td>\n",
       "      <td>-4.731947</td>\n",
       "      <td>1.0</td>\n",
       "    </tr>\n",
       "    <tr>\n",
       "      <td>4</td>\n",
       "      <td>-3.695086</td>\n",
       "      <td>1.364596</td>\n",
       "      <td>0.0</td>\n",
       "    </tr>\n",
       "  </tbody>\n",
       "</table>\n",
       "</div>"
      ],
      "text/plain": [
       "          x         y  color\n",
       "0 -2.451839 -3.967665    1.0\n",
       "1 -4.077216  1.063597    1.0\n",
       "2  1.718660 -4.612983    1.0\n",
       "3 -2.187174 -4.731947    1.0\n",
       "4 -3.695086  1.364596    0.0"
      ]
     },
     "execution_count": 16,
     "metadata": {},
     "output_type": "execute_result"
    }
   ],
   "source": [
    "test_df = pd.read_csv('./data/test.csv')\n",
    "test_df.head()"
   ]
  },
  {
   "cell_type": "code",
   "execution_count": 17,
   "metadata": {},
   "outputs": [],
   "source": [
    "test_input_values = np.column_stack((test_df.x.values, test_df.y.values))\n",
    "test_output_values = test_df.color.values"
   ]
  },
  {
   "cell_type": "code",
   "execution_count": 18,
   "metadata": {},
   "outputs": [
    {
     "name": "stdout",
     "output_type": "stream",
     "text": [
      "5000/5000 [==============================] - 0s 63us/sample - loss: 0.5194 - accuracy: 0.7648\n"
     ]
    },
    {
     "data": {
      "text/plain": [
       "[0.5193951394081116, 0.7648]"
      ]
     },
     "execution_count": 18,
     "metadata": {},
     "output_type": "execute_result"
    }
   ],
   "source": [
    "model.evaluate(test_input_values, test_output_values)"
   ]
  }
 ],
 "metadata": {
  "kernelspec": {
   "display_name": "Python 3",
   "language": "python",
   "name": "python3"
  },
  "language_info": {
   "codemirror_mode": {
    "name": "ipython",
    "version": 3
   },
   "file_extension": ".py",
   "mimetype": "text/x-python",
   "name": "python",
   "nbconvert_exporter": "python",
   "pygments_lexer": "ipython3",
   "version": "3.7.4"
  }
 },
 "nbformat": 4,
 "nbformat_minor": 2
}
